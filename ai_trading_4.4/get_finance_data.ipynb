{
 "cells": [
  {
   "cell_type": "code",
   "execution_count": 46,
   "metadata": {},
   "outputs": [
    {
     "name": "stdout",
     "output_type": "stream",
     "text": [
      "-1\n"
     ]
    }
   ],
   "source": [
    "import pandas as pd\n",
    "import requests\n",
    "\n",
    "code  = '005935'\n",
    "URL = f\"https://comp.fnguide.com/SVO2/ASP/SVD_FinanceRatio.asp?pGB=1&gicode=A{code}&cID=&MenuYn=Y&ReportGB=&NewMenuID=104&stkGb=701\"\n",
    "r = requests.get(URL)\n",
    "\n",
    "print(r.text.find('ROA'))\n",
    "\n",
    "# URL = f\"https://finance.naver.com/item/main.nhn?code={code}\"\n",
    "# r = requests.get(URL)\n",
    "# df = pd.read_html(r.text)[3]\n",
    "# per = df[df.iloc[:, 0] == 'PER(배)']\n"
   ]
  }
 ],
 "metadata": {
  "kernelspec": {
   "display_name": "venv",
   "language": "python",
   "name": "python3"
  },
  "language_info": {
   "codemirror_mode": {
    "name": "ipython",
    "version": 3
   },
   "file_extension": ".py",
   "mimetype": "text/x-python",
   "name": "python",
   "nbconvert_exporter": "python",
   "pygments_lexer": "ipython3",
   "version": "3.9.6"
  }
 },
 "nbformat": 4,
 "nbformat_minor": 2
}
